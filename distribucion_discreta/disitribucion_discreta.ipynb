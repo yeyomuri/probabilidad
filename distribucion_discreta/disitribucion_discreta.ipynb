{
  "nbformat": 4,
  "nbformat_minor": 0,
  "metadata": {
    "colab": {
      "name": "Untitled7.ipynb",
      "provenance": [],
      "authorship_tag": "ABX9TyO/12S5hK0Sc3+uzdVIph5J",
      "include_colab_link": true
    },
    "kernelspec": {
      "name": "python3",
      "display_name": "Python 3"
    },
    "language_info": {
      "name": "python"
    }
  },
  "cells": [
    {
      "cell_type": "markdown",
      "metadata": {
        "id": "view-in-github",
        "colab_type": "text"
      },
      "source": [
        "<a href=\"https://colab.research.google.com/github/yeyomuri/probabilidad/blob/main/disitribucion_discreta.ipynb\" target=\"_parent\"><img src=\"https://colab.research.google.com/assets/colab-badge.svg\" alt=\"Open In Colab\"/></a>"
      ]
    },
    {
      "cell_type": "code",
      "execution_count": 1,
      "metadata": {
        "id": "lNXii3EIj4At"
      },
      "outputs": [],
      "source": [
        "import numpy as np\n",
        "from numpy.random import binomial\n",
        "from scipy.stats import binom\n",
        "from math import factorial\n",
        "import matplotlib.pyplot as plt"
      ]
    },
    {
      "cell_type": "code",
      "source": [
        "#exitos, lazanmientos, probabilidad de exito\n",
        "def my_binomial(k, n, p): \n",
        "  return factorial(n)/(factorial(k)*factorial(n-k))*pow(p, k)*pow(1-p, n-k)"
      ],
      "metadata": {
        "id": "Q90xnzCHk6A1"
      },
      "execution_count": 9,
      "outputs": []
    },
    {
      "cell_type": "code",
      "source": [
        "dist = binom(3, 0.5)\n",
        "dist.pmf(2)"
      ],
      "metadata": {
        "colab": {
          "base_uri": "https://localhost:8080/"
        },
        "id": "L4ZgHwQmnTi9",
        "outputId": "ff24b662-91ff-443f-a93e-ec51a97dcf11"
      },
      "execution_count": 12,
      "outputs": [
        {
          "output_type": "execute_result",
          "data": {
            "text/plain": [
              "0.375"
            ]
          },
          "metadata": {},
          "execution_count": 12
        }
      ]
    },
    {
      "cell_type": "code",
      "source": [
        "p = 0.5 \n",
        "n = 3\n",
        "binomial(n, p)"
      ],
      "metadata": {
        "colab": {
          "base_uri": "https://localhost:8080/"
        },
        "id": "kB-VKqacpFPF",
        "outputId": "2697a9fa-21ae-40cb-bcf7-c23bde7ed4f0"
      },
      "execution_count": 60,
      "outputs": [
        {
          "output_type": "execute_result",
          "data": {
            "text/plain": [
              "0"
            ]
          },
          "metadata": {},
          "execution_count": 60
        }
      ]
    },
    {
      "cell_type": "code",
      "source": [
        "arr = []\n",
        "\n",
        "for _ in range(1000):\n",
        "  arr.append(binomial(n, p))\n",
        "\n",
        "def plot_hist(num_trials):\n",
        "  values = [0, 1, 2, 3]\n",
        "  arr = []\n",
        "  for _ in range(num_trials):\n",
        "    arr.append(binomial(n, p))\n",
        "\n",
        "  sim = np.unique(arr, return_counts=True)[1]/len(arr)\n",
        "  teoria = [binom(3, 0.5).pmf(k) for k in values]\n",
        "  plt.bar(values, sim, color = 'red')\n",
        "  plt.bar(values, teoria, alpha = 0.5, color = 'blue')\n",
        "  plt.title('{}experimentos'.format(num_trials))\n",
        "  plt.show()\n",
        "sim\n",
        "plot_hist(200000)"
      ],
      "metadata": {
        "colab": {
          "base_uri": "https://localhost:8080/",
          "height": 281
        },
        "id": "byTR-rJ5twE4",
        "outputId": "eb23d2fa-cf78-4346-8a91-0ab251f6f918"
      },
      "execution_count": 47,
      "outputs": [
        {
          "output_type": "display_data",
          "data": {
            "image/png": "[encoded data removed]",
            "text/plain": [
              "<Figure size 432x288 with 1 Axes>"
            ]
          },
          "metadata": {
            "needs_background": "light"
          }
        }
      ]
    },
    {
      "cell_type": "code",
      "source": [
        "values = [0,1,2,3]\n",
        "teoria = [binom(3, 0.5).pmf(k) for k in values]\n",
        "teoria"
      ],
      "metadata": {
        "colab": {
          "base_uri": "https://localhost:8080/"
        },
        "id": "wMPP_lneuygA",
        "outputId": "04182227-e097-46e3-b163-172d67c0c157"
      },
      "execution_count": 34,
      "outputs": [
        {
          "output_type": "execute_result",
          "data": {
            "text/plain": [
              "[0.12500000000000003, 0.375, 0.375, 0.12500000000000003]"
            ]
          },
          "metadata": {},
          "execution_count": 34
        }
      ]
    }
  ]
}
