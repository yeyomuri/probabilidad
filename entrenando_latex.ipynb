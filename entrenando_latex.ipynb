{
  "nbformat": 4,
  "nbformat_minor": 0,
  "metadata": {
    "colab": {
      "name": "entrenando_latex.ipynb",
      "provenance": [],
      "authorship_tag": "ABX9TyMFsyvvPztJFhYESQk1RR59",
      "include_colab_link": true
    },
    "kernelspec": {
      "name": "python3",
      "display_name": "Python 3"
    },
    "language_info": {
      "name": "python"
    }
  },
  "cells": [
    {
      "cell_type": "markdown",
      "metadata": {
        "id": "view-in-github",
        "colab_type": "text"
      },
      "source": [
        "<a href=\"https://colab.research.google.com/github/yeyomuri/probabilidad/blob/main/entrenando_latex.ipynb\" target=\"_parent\"><img src=\"https://colab.research.google.com/assets/colab-badge.svg\" alt=\"Open In Colab\"/></a>"
      ]
    },
    {
      "cell_type": "markdown",
      "source": [
        "#Entrenando en LaTeX\n",
        "\n",
        "En este colab practicaré el uso de de LaTeX en colab. Puedes encontrar la documentación [completa](http://users.dickinson.edu/~richesod/latex/latexcheatsheet.pdf). Tambien la documentación de [colab](https://colab.research.google.com/github/bebi103a/bebi103a.github.io/blob/master/lessons/00/intro_to_latex.ipynb#scrollTo=sP6eXOp-Mf9E)\n"
      ],
      "metadata": {
        "id": "qkdq3PTnQXni"
      }
    },
    {
      "cell_type": "markdown",
      "source": [
        "#Comando basicos en LaTEX\n",
        "    Einstein nos decía que: $E = mc^2$\n",
        "\n",
        "Einstein nos decía que: $E = mc^2$\n",
        "\n",
        "    Euler nos decía que: $\\mathrm{e}^{i \\pi} - 1 = 0$.\n",
        "\n",
        "Euler nos decía que: $\\mathrm{e}^{i \\pi} - 1 = 0$.\n",
        "\n",
        "    El producto escalar de dos vectores es $n$-vectors is $\\mathbf{a} \\cdot \\mathbf{b} = \\sum_{i=1}^n a_i b_i$\n",
        "\n",
        "El producto escalar de dos vectores es $n$-vectors es $\\mathbf{a} \\cdot \\mathbf{b} = \\sum_{i=1}^n a_i b_i$\n",
        "\n",
        "\n",
        "\n",
        "\n"
      ],
      "metadata": {
        "id": "5Tz1BiMWO0lI"
      }
    },
    {
      "cell_type": "markdown",
      "source": [
        "##Visualizacion de ecuaciones\n",
        "\n",
        "        \\begin{align} \n",
        "    \\mathbf{a} \\cdot \\mathbf{b} = \\sum_{n=1}^{\\infty}a_n\n",
        "    \\end{align}\n",
        "\n",
        "\\begin{align}\n",
        "\\mathbf{a} \\cdot \\mathbf{b} = \\sum_{n=1}^{\\infty}a_n\n",
        "\\end{align}\n",
        "\n",
        "\n",
        "Al final de la linea se utiliza (`//`) y al comienzo de la siguiente linea se utiliza (`&`)\n",
        "\n",
        "        \\begin{align}\n",
        "    \\mathbf{a} \\cdot \\mathbf{b} &= \\sum_{i=1}^n a_i b_i \\\\\n",
        "    &= a_x b_x + a_y b_y + a_z b_z.\n",
        "    \\end{align}\n",
        "\n",
        "\\begin{align}\n",
        "\\mathbf{a} \\cdot \\mathbf{b} &= \\sum_{i=1}^n a_i b_i \\\\\n",
        "&= a_x b_x + a_y b_y + a_z b_z.\n",
        "\\end{align}"
      ],
      "metadata": {
        "id": "e6R1NH8TXGkS"
      }
    }
  ]
}