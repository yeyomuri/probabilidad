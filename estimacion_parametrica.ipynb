{
  "nbformat": 4,
  "nbformat_minor": 0,
  "metadata": {
    "colab": {
      "name": "estimacion_parametrica.ipynb",
      "provenance": [],
      "authorship_tag": "ABX9TyPV1VLqhzCR8S4d/MuvlsV2",
      "include_colab_link": true
    },
    "kernelspec": {
      "name": "python3",
      "display_name": "Python 3"
    },
    "language_info": {
      "name": "python"
    }
  },
  "cells": [
    {
      "cell_type": "markdown",
      "metadata": {
        "id": "view-in-github",
        "colab_type": "text"
      },
      "source": [
        "<a href=\"https://colab.research.google.com/github/yeyomuri/probabilidad/blob/main/estimacion_parametrica.ipynb\" target=\"_parent\"><img src=\"https://colab.research.google.com/assets/colab-badge.svg\" alt=\"Open In Colab\"/></a>"
      ]
    },
    {
      "cell_type": "code",
      "execution_count": 9,
      "metadata": {
        "id": "IY7V5lNgMgOG"
      },
      "outputs": [],
      "source": [
        "import numpy as np\n",
        "import matplotlib.pyplot as plt\n",
        "from scipy.stats import norm\n",
        "from numpy.random import normal"
      ]
    },
    {
      "cell_type": "code",
      "source": [
        "sample = normal(size = 10000) #Datos aleatorios de una distribucion normal \n",
        "plt.hist(sample, bins = 30)\n",
        "plt.show()"
      ],
      "metadata": {
        "colab": {
          "base_uri": "https://localhost:8080/",
          "height": 269
        },
        "id": "v9ibL_pQNxTW",
        "outputId": "3ae3e6e9-2417-4a54-c02d-60c6fe58000c"
      },
      "execution_count": 10,
      "outputs": [
        {
          "output_type": "display_data",
          "data": {
            "image/png": "[encoded data removed]",
            "text/plain": [
              "<Figure size 432x288 with 1 Axes>"
            ]
          },
          "metadata": {
            "needs_background": "light"
          }
        }
      ]
    },
    {
      "cell_type": "markdown",
      "source": [
        "##Estimación paramétrica"
      ],
      "metadata": {
        "id": "SMgD3Ep-NqUe"
      }
    },
    {
      "cell_type": "code",
      "source": [
        "sample = normal(loc = 50, scale = 5, size = 10000)#promedio, sigma, numero de datos\n",
        "mu = sample.mean()\n",
        "sigma = sample.std()\n",
        "dist = norm(mu, sigma)\n",
        "values = [value for value in range(30, 70)]\n",
        "probabilidades = [dist.pdf(value) for value in values]\n",
        "plt.hist(sample, bins = 30, density = True)\n",
        "plt.plot(values, probabilidades)\n",
        "plt.show()"
      ],
      "metadata": {
        "colab": {
          "base_uri": "https://localhost:8080/",
          "height": 265
        },
        "id": "iB9kJsCUPalN",
        "outputId": "d7b1f18d-1db9-41cf-c191-5235b495a558"
      },
      "execution_count": 15,
      "outputs": [
        {
          "output_type": "display_data",
          "data": {
            "image/png": "[encoded data removed]",
            "text/plain": [
              "<Figure size 432x288 with 1 Axes>"
            ]
          },
          "metadata": {
            "needs_background": "light"
          }
        }
      ]
    },
    {
      "cell_type": "markdown",
      "source": [
        "#Estimación no paramétrica\n",
        "\n",
        "    Kernel, Density estimation\n",
        "\n",
        "\n",
        "*   [parametro suavizado]: smoothing paramater\n",
        "*   [función base]: basis function\n",
        "\n",
        "Kernel density estimation en [scipy](https://scikit-learn.org/stable/modules/density.html)\n",
        "\n"
      ],
      "metadata": {
        "id": "AXreR6LQRajM"
      }
    },
    {
      "cell_type": "code",
      "source": [
        "from numpy import hstack\n",
        "from sklearn.neighbors import KernelDensity\n",
        "\n",
        "#Construimos una distribucion bimodal\n",
        "\n",
        "sample1 = normal(loc = 20, scale = 5, size = 300)\n",
        "sample2 = normal(loc = 40, scale = 5, size = 700)\n",
        "sample3 = hstack((sample1, sample2))\n",
        "\n",
        "model = KernelDensity(bandwidth = 2, kernel = 'gaussian')\n",
        "sample = sample.reshape((len(sample), 1))\n",
        "model.fit(sample)\n",
        "\n",
        "values = np.asarray([value for value in range(1, 60)])\n",
        "values = values.reshape((len(values), 1))\n",
        "probabilities = model.score_samples(values) #probabilidad logaritmica\n",
        "probabilidad = np.exp(probabilities) #inversion de probabilidad\n",
        "plt.hist(sample, bins = 50, density = True)\n",
        "plt.plot(values, probabilities)\n",
        "plt.show()"
      ],
      "metadata": {
        "colab": {
          "base_uri": "https://localhost:8080/",
          "height": 265
        },
        "id": "czOsoPLmRdHE",
        "outputId": "00e62c4c-4f95-48f7-c236-2e3574bc0b41"
      },
      "execution_count": 20,
      "outputs": [
        {
          "output_type": "display_data",
          "data": {
            "image/png": "[encoded data removed]",
            "text/plain": [
              "<Figure size 432x288 with 1 Axes>"
            ]
          },
          "metadata": {
            "needs_background": "light"
          }
        }
      ]
    }
  ]
}